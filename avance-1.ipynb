{
 "cells": [
  {
   "cell_type": "markdown",
   "metadata": {},
   "source": [
    "# Proyecto Final | Avance 1\n",
    "\n",
    "### Equipo 146\n",
    "\n",
    "- Erick de Jesus Hernández Cerecedo - A01066428\n",
    "- Francisco Javier Hernández Camarillo - A00998083\n",
    "\n",
    "***"
   ]
  },
  {
   "cell_type": "markdown",
   "metadata": {},
   "source": [
    "### Conjunto de datos para este módulo de aprendizaje\n",
    "\n",
    "##### **1. Nombre del conjunto de datos.**\n",
    "\n",
    "    \"Fortune 1000\" (2021)"
   ]
  },
  {
   "cell_type": "markdown",
   "metadata": {},
   "source": [
    "#### **2. La organización que lo generó.**\n",
    "\n",
    "Es una base de datos generada por [Fortune](https://fortune.com/) extraída con técnica Web scraping"
   ]
  },
  {
   "cell_type": "markdown",
   "metadata": {},
   "source": [
    "##### **3. Enlace de Internet donde se puedan descargar el base de datos en línea**\n",
    "\n",
    "- Sitio web oficial: [\"Fortune 500\" (1996 - 2022)](https://fortune.com/fortune500/2021/search/)\n",
    "- Porcion de la BD del 2021 en Kaggle: [\"Fortune 500\" (2021)](https://www.kaggle.com/datasets/winston56/fortune-500-data-2021)"
   ]
  },
  {
   "cell_type": "markdown",
   "metadata": {},
   "source": [
    "##### **4. Descripción el conjunto de datos.**\n",
    "\n",
    "Cada año, Fortune, una revista de negocios estadounidense, publica Fortune 500, que clasifica a las 500 corporaciones principales por ingresos. Este conjunto de datos incluye todo el Fortune 1000, a diferencia de solo los 500 principales. El conjunto de datos de Fortune 1000 proviene del sitio web de Fortune, recopilado por los procesos descritos en este cuaderno. Contiene datos de empresas estadounidenses desde el año 1996 al 2022. El conjunto de datos tiene 1000 filas y 18 columnas por año.\n",
    "\n",
    "Metadatos (Columnas): \n",
    "\n",
    "1. Company - Nombre de la empresa.\n",
    "2. Rank - El rango de 2021 establecido por Fortune (1-1000).\n",
    "3. Rank Change - El cambio en el rango de 2020 a 2021. Solo se muestra un cambio de rango si la empresa se encuentra actualmente entre las 500 principales y anteriormente estuvo entre las 500 principales.\n",
    "4. Revenue - Ingresos de cada empresa en millones. Este es el criterio utilizado para clasificar a cada empresa.\n",
    "5. Profit - Beneficio de cada empresa en millones.\n",
    "6. Num. of Employees - El número de empleados que emplea cada empresa.\n",
    "7. Sector - El sector del mercado en el que opera la empresa.\n",
    "8. City - La ciudad donde se encuentra la sede de la empresa.\n",
    "9. State - El estado donde se encuentra la sede de la empresa.\n",
    "10. Newcomer - Indica si la empresa es nueva o no en la lista Fortune 500 (\"sí\" o \"no\"). No se incluirá ningún valor para las empresas fuera de las 500 principales.\n",
    "11. CEO Founder - Indica si el CEO de la empresa es también el fundador (\"sí\" o \"no\").\n",
    "12. CEO Woman - Indica si la directora general de la empresa es mujer (\"sí\" o \"no\").\n",
    "13. Profitable - Indica si la empresa es rentable o no (\"sí\" o \"no\").\n",
    "14. Prev. Rank - El rango de 2020 de la empresa, según lo establecido por Fortune. Solo habrá datos de clasificación anteriores para las 500 empresas principales.\n",
    "15. CEO - El nombre del CEO de la empresa.\n",
    "16. Website - la URL del sitio web de la empresa.\n",
    "17. Ticker - El símbolo de cotización de las empresas públicas. Algunas filas tendrán valores vacíos porque la empresa es una corporación privada.\n",
    "18. Market Cap - la capitalización de mercado (o valor) de la empresa en millones. Algunas filas tendrán valores vacíos porque la empresa es privada. Las valoraciones de mercado se determinaron el 20 de enero de 2021."
   ]
  },
  {
   "cell_type": "markdown",
   "metadata": {},
   "source": [
    "##### **5. ¿Cuáles son algunas de las preguntas de investigación que podría responder con estos datos? Enumere al menos OCHO (no responda las preguntas).**\n",
    "\n",
    "- ¿Qué papel juega la rentabilidad en el ranking?\n",
    "- ¿Qué porcentaje de empresas tienen directores ejecutivos que también fueron fundadores?\n",
    "- ¿Cuál es el sector empresarial más rentable?\n",
    "- ¿Cuál es la relación entre la ubicación de la empresa y su utilidad?\n",
    "- ¿Qué sectores tienen la mayor capitalización de mercado?\n",
    "- ¿Qué porcentaje de empresas tienen directoras generales mujeres?\n",
    "- ¿Cuál es la Importancia entre la relación entre el número de empleados y los ingresos de la empresa?\n",
    "- ¿Qué papel juega la popularidad de las empresas y sus ingresos?\n",
    "- ¿Cuáles son los sectores con mayor oportunidad de inversión?"
   ]
  }
 ],
 "metadata": {
  "kernelspec": {
   "display_name": "Python 3.10.5 64-bit",
   "language": "python",
   "name": "python3"
  },
  "language_info": {
   "codemirror_mode": {
    "name": "ipython",
    "version": 3
   },
   "file_extension": ".py",
   "mimetype": "text/x-python",
   "name": "python",
   "nbconvert_exporter": "python",
   "pygments_lexer": "ipython3",
   "version": "3.10.5"
  },
  "orig_nbformat": 4,
  "vscode": {
   "interpreter": {
    "hash": "aee8b7b246df8f9039afb4144a1f6fd8d2ca17a180786b69acc140d282b71a49"
   }
  }
 },
 "nbformat": 4,
 "nbformat_minor": 2
}
