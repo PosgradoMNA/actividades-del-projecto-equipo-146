{
 "cells": [
  {
   "cell_type": "markdown",
   "metadata": {},
   "source": [
    "# Proyecto Final | Avance 2\n",
    "\n",
    "### Equipo 146\n",
    "\n",
    "- Erick de Jesus Hernández Cerecedo - A01066428\n",
    "- Francisco Javier Hernández Camarillo - A00998083\n",
    "\n",
    "***"
   ]
  },
  {
   "cell_type": "markdown",
   "metadata": {},
   "source": [
    "### Identificación y aprendizaje de metodología a emplear en el proyecto\n",
    "\n",
    "##### **Instrucciones**\n",
    "\n",
    "- Identificacion de metodología.\n",
    "- Descripción de los pasos por cada fase.\n",
    "- Documentación del proceso en jupyter notebook."
   ]
  },
  {
   "cell_type": "markdown",
   "metadata": {},
   "source": [
    "##### **Metodología**\n",
    "    \"CRISP-DM\" (Cross Industry Standard Process for Data Mining)\n",
    "La metodología que será usada para el proyecto sera \"CRISP-DM\" (Cross Industry Standard Process for Data Mining), ya que esta se adapta mejor al ciclo de vida de un proyecto de análisis datos estandar y proportciona una descripción estandarizada.\n",
    "\n",
    "![Metodología CRISP-DM](crispdm.png \"CRISP-DM\")"
   ]
  },
  {
   "cell_type": "markdown",
   "metadata": {},
   "source": [
    "##### **1. Business Understanding**\n",
    "\n",
    "Se centra en la comprensión de los objetivos y requisitos del proyecto desde una perspectiva empresarial.\n",
    "\n",
    "- Declaración de objetivos comerciales y definición de los criterios de éxito.\n",
    "- Determinar la situación inicial del proyecto (recursos, requisitos, riesgos).\n",
    "- Producir un plan de acción (incluye tecnologías, herramientas y planos detallados para cada fase del proyecto). "
   ]
  },
  {
   "cell_type": "markdown",
   "metadata": {},
   "source": [
    "##### **2. Data Understanding**\n",
    "\n",
    "Se centra en impulsar el enfoque para identificar problemáticas, recopilar información, analizar los conjuntos de datos y formulación de hipótesis.\n",
    "\n",
    "- Recolección de los datos necesarios.\n",
    "- Comprensión y análisis de la calidad de datos.\n",
    "- Exploración de los datos seleccionados.\n",
    "- Validación del cumplimiento de calidad de los datos."
   ]
  },
  {
   "cell_type": "markdown",
   "metadata": {},
   "source": [
    "##### **3. Data Preparation**\n",
    "\n",
    "La fase de preparación de datos cubre todas las actividades para construir el conjunto de datos final a partir de los datos sin procesar iniciales.\n",
    "\n",
    "- Selección o exclusión de datos seleccionados, conjuntos o subconjuntos.\n",
    "- Limpieza del conjunto seleccionado de datos.\n",
    "- Construcción de nuevas variables o atributos.\n",
    "- Normalización de la base de datos."
   ]
  },
  {
   "cell_type": "markdown",
   "metadata": {},
   "source": [
    "##### **4. Modeling**\n",
    "\n",
    "Etapa donde se construirá y evaluará varios modelos basados en varias técnicas de modelado diferentes.\n",
    "\n",
    "- Selección de varias técnicas de modelado de datos\n",
    "- Creación de un modelo de pruebas sobre como se probaran los modelos.\n",
    "- Creación del modelo de datos.\n",
    "- Evaluación del modelo para identificar si es el adecuado para el negocio."
   ]
  },
  {
   "cell_type": "markdown",
   "metadata": {},
   "source": [
    "##### **5. Evaluation**\n",
    "\n",
    "La fase de evaluación analiza de manera más amplia qué modelo se adapta mejor al negocio y qué hacer a continuación.\n",
    "\n",
    "- Evaluación de los resultados del modelo de datos creado anteriormente.\n",
    "- Revisión de procesos, análisis de los resultados, verificar el cumplimiento de los objetivos.\n",
    "- Determinación de los siguientes pasos.\n",
    "\n",
    "* *Importante verificar que el modelo usado esté correctamente aplicado antes de determinar acciones.*"
   ]
  },
  {
   "cell_type": "markdown",
   "metadata": {},
   "source": [
    "##### **6. Deployment**\n",
    "\n",
    "Es la etapa del proyecto donde se despliegan los resultados\n",
    "\n",
    "- Generación de un plan de implementación del modelo.\n",
    "- Generación de un plan de monitoreo y mantenimiento para saber y asegurar que el modelo está funcionando conforme al estimado.\n",
    "- Creación de una presentación final con los resultados y lecciones aprendidas.\n",
    "- Revisión final del proyecto."
   ]
  }
 ],
 "metadata": {
  "kernelspec": {
   "display_name": "Python 3.10.5 64-bit",
   "language": "python",
   "name": "python3"
  },
  "language_info": {
   "name": "python",
   "version": "3.10.5"
  },
  "orig_nbformat": 4,
  "vscode": {
   "interpreter": {
    "hash": "aee8b7b246df8f9039afb4144a1f6fd8d2ca17a180786b69acc140d282b71a49"
   }
  }
 },
 "nbformat": 4,
 "nbformat_minor": 2
}
